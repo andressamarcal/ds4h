{
 "cells": [
  {
   "cell_type": "code",
   "execution_count": 1,
   "metadata": {
    "ExecuteTime": {
     "end_time": "2022-05-22T17:40:27.173220Z",
     "start_time": "2022-05-22T17:40:25.195436Z"
    }
   },
   "outputs": [],
   "source": [
    "import pandas as pd \n",
    "import glob \n",
    "import os\n",
    "import matplotlib.pyplot as plt\n",
    "import seaborn as sns\n",
    "import datetime"
   ]
  },
  {
   "cell_type": "code",
   "execution_count": 2,
   "metadata": {
    "ExecuteTime": {
     "end_time": "2022-05-22T17:40:33.668042Z",
     "start_time": "2022-05-22T17:40:28.269661Z"
    }
   },
   "outputs": [],
   "source": [
    "scenario_1, scenario_2 = {}, {}\n",
    "sce_paths= \"../data/raw/{}/csv/*.csv\"\n",
    "\n",
    "def read_files_to_dataframe(path):\n",
    "    df = {}\n",
    "    for file in glob.glob(path):\n",
    "        tmp_df = pd.read_csv(file)\n",
    "        file_sep = file.split(os.sep)\n",
    "        df_name = file_sep[len(file_sep) - 1].split('.')[0]\n",
    "        df[df_name] = tmp_df\n",
    "    return df\n",
    "\n",
    "scenario_1 = read_files_to_dataframe(sce_paths.format(\"scenario01\"))\n",
    "scenario_2 = read_files_to_dataframe(sce_paths.format(\"scenario02\"))"
   ]
  },
  {
   "cell_type": "markdown",
   "metadata": {},
   "source": [
    "### Last Encounters "
   ]
  },
  {
   "cell_type": "code",
   "execution_count": 3,
   "metadata": {
    "ExecuteTime": {
     "end_time": "2022-05-22T17:40:36.322196Z",
     "start_time": "2022-05-22T17:40:36.212468Z"
    }
   },
   "outputs": [],
   "source": [
    "encounters_1 = scenario_1['encounters']\n",
    "encounters_1['row_number'] = encounters_1.sort_values(['START'], ascending=[False]) \\\n",
    "             .groupby(['PATIENT']) \\\n",
    "             .cumcount() + 1\n",
    "last_encounters_1 = encounters_1[encounters_1['row_number'] == 1]"
   ]
  },
  {
   "cell_type": "code",
   "execution_count": 4,
   "metadata": {
    "ExecuteTime": {
     "end_time": "2022-05-22T17:40:37.320873Z",
     "start_time": "2022-05-22T17:40:37.214600Z"
    }
   },
   "outputs": [],
   "source": [
    "encounters_2 = scenario_2['encounters']\n",
    "encounters_2['row_number'] = encounters_2.sort_values(['START'], ascending=[False]) \\\n",
    "             .groupby(['PATIENT']) \\\n",
    "             .cumcount() + 1\n",
    "last_encounters_2 = encounters_2[encounters_2['row_number'] == 1]"
   ]
  },
  {
   "cell_type": "markdown",
   "metadata": {},
   "source": [
    "### Patients last encounters"
   ]
  },
  {
   "cell_type": "code",
   "execution_count": 13,
   "metadata": {
    "ExecuteTime": {
     "end_time": "2022-05-22T17:42:16.035167Z",
     "start_time": "2022-05-22T17:42:15.988663Z"
    }
   },
   "outputs": [],
   "source": [
    "threshold_death = 15 # 7 or 15\n",
    "patients_1 = scenario_1['patients']\n",
    "patients_1_last_encounter = patients_1.merge(last_encounters_1, left_on='Id', \\\n",
    "                                         right_on='PATIENT', suffixes=('_patient', '_encounter'))\n",
    "\n",
    "\n",
    "patients_1_last_encounter['death_threshold'] = pd.to_datetime(patients_1_last_encounter['DEATHDATE']).dt.tz_localize(None) - \\\n",
    "pd.to_datetime(patients_1_last_encounter['START']).dt.tz_localize(None) <= datetime.timedelta(days=threshold_death)\n",
    "\n",
    "patients_1_encouterclasses = encounters_1.groupby(['PATIENT', 'ENCOUNTERCLASS']).size().unstack('ENCOUNTERCLASS', fill_value=0).reset_index()\n",
    "patients_1_last_encounter = patients_1_last_encounter.merge(patients_1_encouterclasses, left_on='Id_patient', \\\n",
    "                              right_on='PATIENT', suffixes=('_patient', '_encounter_classes'))"
   ]
  },
  {
   "cell_type": "code",
   "execution_count": 14,
   "metadata": {
    "ExecuteTime": {
     "end_time": "2022-05-22T17:42:17.217585Z",
     "start_time": "2022-05-22T17:42:17.170895Z"
    }
   },
   "outputs": [],
   "source": [
    "patients_2 = scenario_2['patients']\n",
    "patients_2_last_encounter = patients_2.merge(last_encounters_2, left_on='Id', \\\n",
    "                                         right_on='PATIENT', suffixes=('_patient', '_encounter'))\n",
    "\n",
    "\n",
    "patients_2_last_encounter['death_threshold'] = pd.to_datetime(patients_2_last_encounter['DEATHDATE']).dt.tz_localize(None) - \\\n",
    "pd.to_datetime(patients_2_last_encounter['START']).dt.tz_localize(None) <= datetime.timedelta(days=threshold_death)\n",
    "\n",
    "patients_2_encouterclasses = encounters_2.groupby(['PATIENT', 'ENCOUNTERCLASS']).size().unstack('ENCOUNTERCLASS', fill_value=0).reset_index()\n",
    "patients_2_last_encounter = patients_2_last_encounter.merge(patients_2_encouterclasses, left_on='Id_patient', \\\n",
    "                              right_on='PATIENT', suffixes=('_patient', '_encounter_classes'))"
   ]
  },
  {
   "cell_type": "markdown",
   "metadata": {},
   "source": [
    "### Patients last condition and encounter"
   ]
  },
  {
   "cell_type": "code",
   "execution_count": 15,
   "metadata": {
    "ExecuteTime": {
     "end_time": "2022-05-22T17:42:20.830599Z",
     "start_time": "2022-05-22T17:42:20.768770Z"
    }
   },
   "outputs": [],
   "source": [
    "conditions_1 = scenario_1['conditions']\n",
    "conditions_1['row_number'] = conditions_1.sort_values(['STOP', 'START'], ascending=[False, False]) \\\n",
    "             .groupby(['PATIENT']) \\\n",
    "             .cumcount() + 1\n",
    "last_conditions_1 = conditions_1[conditions_1['row_number'] == 1]\n",
    "\n",
    "#patient_last_conditions_1 = last_conditions_1.groupby(['PATIENT', 'CODE']).size(). \\\n",
    "#unstack('CODE', fill_value=0).reset_index()\n",
    "\n",
    "patients_last_encounter_conditions_1 = patients_1_last_encounter.merge(last_conditions_1[['PATIENT', 'CODE']], left_on='Id_patient', \\\n",
    "                              right_on='PATIENT', suffixes=('_patient_encounter_classes', '_conditions'))"
   ]
  },
  {
   "cell_type": "code",
   "execution_count": 16,
   "metadata": {
    "ExecuteTime": {
     "end_time": "2022-05-22T17:42:22.263478Z",
     "start_time": "2022-05-22T17:42:22.200584Z"
    }
   },
   "outputs": [],
   "source": [
    "conditions_2 = scenario_2['conditions']\n",
    "conditions_2['row_number'] = conditions_2.sort_values(['STOP', 'START'], ascending=[False, False]) \\\n",
    "             .groupby(['PATIENT']) \\\n",
    "             .cumcount() + 1\n",
    "last_conditions_2 = conditions_2[conditions_2['row_number'] == 1]\n",
    "\n",
    "#patient_last_conditions_2 = last_conditions_2.groupby(['PATIENT', 'CODE']).size(). \\\n",
    "#unstack('CODE', fill_value=0).reset_index()\n",
    "\n",
    "patients_last_encounter_conditions_2 = patients_2_last_encounter.merge(last_conditions_2[['PATIENT', 'CODE']], left_on='Id_patient', \\\n",
    "                              right_on='PATIENT', suffixes=('_patient_encounter_classes', '_conditions'))"
   ]
  },
  {
   "cell_type": "code",
   "execution_count": 17,
   "metadata": {
    "ExecuteTime": {
     "end_time": "2022-05-22T17:42:23.228965Z",
     "start_time": "2022-05-22T17:42:23.213038Z"
    }
   },
   "outputs": [
    {
     "data": {
      "text/plain": [
       "False    966\n",
       "True     174\n",
       "Name: death_threshold, dtype: int64"
      ]
     },
     "execution_count": 17,
     "metadata": {},
     "output_type": "execute_result"
    }
   ],
   "source": [
    "patients_last_encounter_conditions_1['death_threshold'].value_counts()"
   ]
  },
  {
   "cell_type": "code",
   "execution_count": 18,
   "metadata": {
    "ExecuteTime": {
     "end_time": "2022-05-22T17:42:25.009251Z",
     "start_time": "2022-05-22T17:42:24.993762Z"
    }
   },
   "outputs": [
    {
     "data": {
      "text/plain": [
       "False    987\n",
       "True     121\n",
       "Name: death_threshold, dtype: int64"
      ]
     },
     "execution_count": 18,
     "metadata": {},
     "output_type": "execute_result"
    }
   ],
   "source": [
    "patients_last_encounter_conditions_2['death_threshold'].value_counts()"
   ]
  },
  {
   "cell_type": "code",
   "execution_count": 19,
   "metadata": {
    "ExecuteTime": {
     "end_time": "2022-05-22T17:42:26.954876Z",
     "start_time": "2022-05-22T17:42:26.879694Z"
    }
   },
   "outputs": [],
   "source": [
    "patients_last_encounter_conditions_1.to_csv(\"../data/processed/patients_last_encounter_conditions_{}days_scenario1.csv\".format(threshold_death), index = False)"
   ]
  },
  {
   "cell_type": "code",
   "execution_count": 20,
   "metadata": {
    "ExecuteTime": {
     "end_time": "2022-05-22T17:42:28.770204Z",
     "start_time": "2022-05-22T17:42:28.728054Z"
    }
   },
   "outputs": [],
   "source": [
    "patients_last_encounter_conditions_2.to_csv(\"../data/processed/patients_last_encounter_conditions_{}days_scenario2.csv\".format(threshold_death), index = False)"
   ]
  }
 ],
 "metadata": {
  "kernelspec": {
   "display_name": "Python 3 (ipykernel)",
   "language": "python",
   "name": "python3"
  },
  "language_info": {
   "codemirror_mode": {
    "name": "ipython",
    "version": 3
   },
   "file_extension": ".py",
   "mimetype": "text/x-python",
   "name": "python",
   "nbconvert_exporter": "python",
   "pygments_lexer": "ipython3",
   "version": "3.8.5"
  },
  "varInspector": {
   "cols": {
    "lenName": 16,
    "lenType": 16,
    "lenVar": 40
   },
   "kernels_config": {
    "python": {
     "delete_cmd_postfix": "",
     "delete_cmd_prefix": "del ",
     "library": "var_list.py",
     "varRefreshCmd": "print(var_dic_list())"
    },
    "r": {
     "delete_cmd_postfix": ") ",
     "delete_cmd_prefix": "rm(",
     "library": "var_list.r",
     "varRefreshCmd": "cat(var_dic_list()) "
    }
   },
   "types_to_exclude": [
    "module",
    "function",
    "builtin_function_or_method",
    "instance",
    "_Feature"
   ],
   "window_display": false
  }
 },
 "nbformat": 4,
 "nbformat_minor": 4
}
