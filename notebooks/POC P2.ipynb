{
 "cells": [
  {
   "cell_type": "code",
   "execution_count": 1,
   "metadata": {},
   "outputs": [],
   "source": [
    "import pandas as pd \n",
    "import glob \n",
    "import os\n",
    "import matplotlib.pyplot as plt\n",
    "import seaborn as sns\n",
    "import datetime"
   ]
  },
  {
   "cell_type": "code",
   "execution_count": 2,
   "metadata": {},
   "outputs": [],
   "source": [
    "scenario_1, scenario_2 = {}, {}\n",
    "sce_paths= \"../data/raw/scenario01/csv/*.csv\"\n",
    "\n",
    "def read_files_to_dataframe(path):\n",
    "    df = {}\n",
    "    for file in glob.glob(path):\n",
    "        tmp_df = pd.read_csv(file)\n",
    "        file_sep = file.split(os.sep)\n",
    "        df_name = file_sep[len(file_sep) - 1].split('.')[0]\n",
    "        df[df_name] = tmp_df\n",
    "    return df\n",
    "\n",
    "scenario_1 = read_files_to_dataframe(sce_paths.format(\"scenario01\"))\n",
    "scenario_2 = read_files_to_dataframe(sce_paths.format(\"scenario02\"))"
   ]
  },
  {
   "cell_type": "markdown",
   "metadata": {},
   "source": [
    "# Scenarios"
   ]
  },
  {
   "cell_type": "code",
   "execution_count": 3,
   "metadata": {},
   "outputs": [
    {
     "data": {
      "text/plain": [
       "dict_keys(['allergies', 'careplans', 'claims', 'conditions', 'devices', 'encounters', 'imaging_studies', 'immunizations', 'medications', 'observations', 'organizations', 'patients', 'payers', 'payer_transitions', 'procedures', 'providers', 'supplies'])"
      ]
     },
     "execution_count": 3,
     "metadata": {},
     "output_type": "execute_result"
    }
   ],
   "source": [
    "scenario_1.keys()"
   ]
  },
  {
   "cell_type": "code",
   "execution_count": 4,
   "metadata": {},
   "outputs": [
    {
     "data": {
      "text/plain": [
       "dict_keys(['allergies', 'careplans', 'claims', 'conditions', 'devices', 'encounters', 'imaging_studies', 'immunizations', 'medications', 'observations', 'organizations', 'patients', 'payers', 'payer_transitions', 'procedures', 'providers', 'supplies'])"
      ]
     },
     "execution_count": 4,
     "metadata": {},
     "output_type": "execute_result"
    }
   ],
   "source": [
    "scenario_2.keys()"
   ]
  },
  {
   "cell_type": "code",
   "execution_count": 5,
   "metadata": {},
   "outputs": [
    {
     "name": "stdout",
     "output_type": "stream",
     "text": [
      "column - scenario_1 - scenario_2\n",
      "allergies - (885, 15) - (885, 15)\n",
      "careplans - (3745, 9) - (3745, 9)\n",
      "claims - (113255, 31) - (113255, 31)\n",
      "conditions - (36396, 6) - (36396, 6)\n",
      "devices - (855, 7) - (855, 7)\n",
      "encounters - (59481, 15) - (59481, 15)\n",
      "imaging_studies - (164919, 13) - (164919, 13)\n",
      "immunizations - (17124, 6) - (17124, 6)\n",
      "medications - (53774, 13) - (53774, 13)\n",
      "observations - (515299, 9) - (515299, 9)\n",
      "organizations - (1406, 11) - (1406, 11)\n",
      "patients - (1174, 25) - (1174, 25)\n",
      "payers - (10, 21) - (10, 21)\n",
      "payer_transitions - (51053, 8) - (51053, 8)\n",
      "procedures - (108206, 9) - (108206, 9)\n",
      "providers - (7087, 12) - (7087, 12)\n",
      "supplies - (7813, 6) - (7813, 6)\n"
     ]
    }
   ],
   "source": [
    "print('column - scenario_1 - scenario_2')\n",
    "for i in scenario_1.keys():\n",
    "    print(i, '-', scenario_1[i].shape,'-', scenario_2[i].shape)"
   ]
  },
  {
   "cell_type": "markdown",
   "metadata": {},
   "source": [
    "# Análise exploratória "
   ]
  },
  {
   "cell_type": "markdown",
   "metadata": {},
   "source": [
    "#### Quantidade de pacientes"
   ]
  },
  {
   "cell_type": "code",
   "execution_count": 6,
   "metadata": {},
   "outputs": [
    {
     "data": {
      "text/plain": [
       "'scenario_1: 1174, scenario_2: 1174'"
      ]
     },
     "execution_count": 6,
     "metadata": {},
     "output_type": "execute_result"
    }
   ],
   "source": [
    "'scenario_1: {}, scenario_2: {}'.format(scenario_1['patients'].drop_duplicates(subset=['Id']).shape[0],\\\n",
    "                                        scenario_2['patients'].drop_duplicates(subset=['Id']).shape[0])"
   ]
  },
  {
   "cell_type": "markdown",
   "metadata": {},
   "source": [
    "#### Quantidade de mortos"
   ]
  },
  {
   "cell_type": "code",
   "execution_count": 7,
   "metadata": {},
   "outputs": [
    {
     "data": {
      "text/plain": [
       "'scenario_1: 174, scenario_2: 174'"
      ]
     },
     "execution_count": 7,
     "metadata": {},
     "output_type": "execute_result"
    }
   ],
   "source": [
    "'scenario_1: {}, scenario_2: {}'.format(scenario_1['patients'].dropna(subset=['DEATHDATE']).shape[0],\\\n",
    "                                        scenario_2['patients'].dropna(subset=['DEATHDATE']).shape[0])"
   ]
  },
  {
   "cell_type": "markdown",
   "metadata": {},
   "source": [
    "#### Idade de falecimento"
   ]
  },
  {
   "cell_type": "code",
   "execution_count": 8,
   "metadata": {},
   "outputs": [],
   "source": [
    "scenario_1['patients']['BIRTHDATE'] = pd.to_datetime(scenario_1['patients']['BIRTHDATE'])\n",
    "scenario_1['patients']['DEATHDATE'] = pd.to_datetime(scenario_1['patients']['DEATHDATE'])\n",
    "\n",
    "scenario_2['patients']['BIRTHDATE'] = pd.to_datetime(scenario_1['patients']['BIRTHDATE'])\n",
    "scenario_2['patients']['DEATHDATE'] = pd.to_datetime(scenario_1['patients']['DEATHDATE'])"
   ]
  },
  {
   "cell_type": "code",
   "execution_count": 9,
   "metadata": {},
   "outputs": [],
   "source": [
    "scenario_1['patients']['AGE_DEATH'] = [scenario_1['patients'].iloc[i]['DEATHDATE'].year - \\\n",
    "                                       scenario_1['patients'].iloc[i]['BIRTHDATE'].year\\\n",
    "                                       for i in range(len(scenario_1['patients']))]\n",
    "\n",
    "scenario_2['patients']['AGE_DEATH'] = [scenario_2['patients'].iloc[i]['DEATHDATE'].year - \\\n",
    "                                       scenario_2['patients'].iloc[i]['BIRTHDATE'].year\\\n",
    "                                       for i in range(len(scenario_2['patients']))]"
   ]
  },
  {
   "cell_type": "code",
   "execution_count": 10,
   "metadata": {},
   "outputs": [
    {
     "data": {
      "image/png": "[encoded data removed]",
      "text/plain": [
       "<Figure size 1080x576 with 2 Axes>"
      ]
     },
     "metadata": {
      "needs_background": "light"
     },
     "output_type": "display_data"
    }
   ],
   "source": [
    "fig, axs = plt.subplots(1,2, figsize=(15, 8))\n",
    "\n",
    "sns.boxplot(x=\"GENDER\", y=\"AGE_DEATH\", data=scenario_1['patients'], ax=axs[0])\n",
    "sns.boxplot(x=\"GENDER\", y=\"AGE_DEATH\", data=scenario_2['patients'], ax=axs[1])\n",
    "axs[0].set_title('scenario 1')\n",
    "axs[1].set_title('scenario 2')\n",
    "fig.suptitle('AGE OF DEATH BY GENDER')\n",
    "plt.show()"
   ]
  },
  {
   "cell_type": "markdown",
   "metadata": {},
   "source": [
    "#### Causas mais comuns das mortes "
   ]
  },
  {
   "cell_type": "code",
   "execution_count": 11,
   "metadata": {},
   "outputs": [],
   "source": [
    "def patient_last_encounter(data):\n",
    "    encounters = data['encounters']\n",
    "    encounters['row_number'] = encounters.sort_values(['START'], ascending=[False]) \\\n",
    "             .groupby(['PATIENT']) \\\n",
    "             .cumcount() + 1\n",
    "    last_encounters =  encounters[encounters['row_number'] == 1]\n",
    "    patients_last_encounter = data['patients'].merge(last_encounters, left_on='Id', \\\n",
    "                                         right_on='PATIENT', suffixes=('_patient', '_encounter'))\n",
    "    patients_last_encounter['death_threshold'] = pd.to_datetime(patients_last_encounter['DEATHDATE']).dt.tz_localize(None) - \\\n",
    "    pd.to_datetime(patients_last_encounter['START']).dt.tz_localize(None) <= datetime.timedelta(days=7)\n",
    "    \n",
    "    return patients_last_encounter"
   ]
  },
  {
   "cell_type": "code",
   "execution_count": 12,
   "metadata": {},
   "outputs": [],
   "source": [
    "patients_last_encounter_1 = patient_last_encounter(scenario_1)\n",
    "patients_last_encounter_2 = patient_last_encounter(scenario_2)\n"
   ]
  },
  {
   "cell_type": "code",
   "execution_count": 13,
   "metadata": {},
   "outputs": [],
   "source": [
    "death_patients_1 = patients_last_encounter_1.dropna(subset=['DEATHDATE'])\n",
    "death_patients_2 = patients_last_encounter_2.dropna(subset=['DEATHDATE'])\n"
   ]
  },
  {
   "cell_type": "code",
   "execution_count": 14,
   "metadata": {},
   "outputs": [],
   "source": [
    "reason_death_1 = death_patients_1['REASONCODE'].value_counts()\n",
    "reason_death_1 = pd.DataFrame({'id': reason_death_1.index.tolist(), 'count': reason_death_1.tolist()})\n",
    "\n",
    "reason_death_2 = death_patients_2['REASONCODE'].value_counts()\n",
    "reason_death_2 = pd.DataFrame({'id': reason_death_2.index.tolist(), 'count': reason_death_2.tolist()})"
   ]
  },
  {
   "cell_type": "code",
   "execution_count": 15,
   "metadata": {},
   "outputs": [
    {
     "data": {
      "image/png": "[encoded data removed]",
      "text/plain": [
       "<Figure size 1440x576 with 2 Axes>"
      ]
     },
     "metadata": {
      "needs_background": "light"
     },
     "output_type": "display_data"
    }
   ],
   "source": [
    "fig, axs = plt.subplots(1,2, figsize=(20, 8))\n",
    "sns.barplot(x=\"id\", y=\"count\", data=reason_death_1, ax = axs[0])\n",
    "sns.barplot(x=\"id\", y=\"count\", data=reason_death_2, ax = axs[1])\n",
    "fig.autofmt_xdate(rotation=90)\n",
    "axs[0].set_title('scenario 1')\n",
    "axs[1].set_title('scenario 2')\n",
    "plt.suptitle('Contagem de mortes por razão de morte - 7 dias')\n",
    "plt.show()"
   ]
  },
  {
   "cell_type": "code",
   "execution_count": 16,
   "metadata": {},
   "outputs": [
    {
     "data": {
      "text/plain": [
       "'Maior causa de morte nos cenarios, 1: 91861009.0, 2: 91861009.0'"
      ]
     },
     "execution_count": 16,
     "metadata": {},
     "output_type": "execute_result"
    }
   ],
   "source": [
    "'Maior causa de morte nos cenarios, 1: {}, 2: {}'.format(reason_death_1[reason_death_1['count'] == reason_death_1['count'].max()]['id'][0],\\\n",
    "                                                         reason_death_2[reason_death_2['count'] == reason_death_2['count'].max()]['id'][0])"
   ]
  },
  {
   "cell_type": "code",
   "execution_count": 17,
   "metadata": {},
   "outputs": [
    {
     "data": {
      "text/plain": [
       "((23, 2), (23, 2))"
      ]
     },
     "execution_count": 17,
     "metadata": {},
     "output_type": "execute_result"
    }
   ],
   "source": [
    "reason_death_1.shape, reason_death_2.shape"
   ]
  },
  {
   "cell_type": "code",
   "execution_count": 18,
   "metadata": {},
   "outputs": [],
   "source": [
    "in_both_scenarios = reason_death_1[reason_death_1['id'].isin(reason_death_2['id'])]['id']"
   ]
  },
  {
   "cell_type": "code",
   "execution_count": 19,
   "metadata": {},
   "outputs": [
    {
     "data": {
      "image/png": "[encoded data removed]",
      "text/plain": [
       "<Figure size 1440x576 with 2 Axes>"
      ]
     },
     "metadata": {
      "needs_background": "light"
     },
     "output_type": "display_data"
    }
   ],
   "source": [
    "fig, axs = plt.subplots(1,2, figsize=(20, 8))\n",
    "sns.barplot(x=\"id\", y=\"count\", data=reason_death_1[reason_death_1['id'].isin(in_both_scenarios)], ax = axs[0])\n",
    "sns.barplot(x=\"id\", y=\"count\", data=reason_death_2[reason_death_2['id'].isin(in_both_scenarios)], ax = axs[1])\n",
    "fig.autofmt_xdate(rotation=90)\n",
    "axs[0].set_title('scenario 1')\n",
    "axs[1].set_title('scenario 2')\n",
    "plt.suptitle('Contagem de mortes por razão de morte - contidos nos dois cenários - 7 dias')\n",
    "plt.show()"
   ]
  },
  {
   "cell_type": "markdown",
   "metadata": {},
   "source": [
    "Observando-se os graficos nota-se que as causas da morte que mais contem dados sobre nos dois datasets é o id 88805009 - referente pelo snomed como 'Chronic congestive heart failure'"
   ]
  },
  {
   "cell_type": "code",
   "execution_count": 20,
   "metadata": {},
   "outputs": [
    {
     "data": {
      "text/plain": [
       "(1174, 43)"
      ]
     },
     "execution_count": 20,
     "metadata": {},
     "output_type": "execute_result"
    }
   ],
   "source": [
    "patients_last_encounter_1.shape"
   ]
  },
  {
   "cell_type": "code",
   "execution_count": 21,
   "metadata": {},
   "outputs": [
    {
     "data": {
      "text/plain": [
       "True     19\n",
       "False     2\n",
       "Name: death_threshold, dtype: int64"
      ]
     },
     "execution_count": 21,
     "metadata": {},
     "output_type": "execute_result"
    }
   ],
   "source": [
    "patients_last_encounter_1[patients_last_encounter_1['REASONCODE'] == 88805009]['death_threshold'].value_counts()"
   ]
  },
  {
   "cell_type": "code",
   "execution_count": 22,
   "metadata": {},
   "outputs": [
    {
     "data": {
      "text/plain": [
       "False    1001\n",
       "True      173\n",
       "Name: death_threshold, dtype: int64"
      ]
     },
     "execution_count": 22,
     "metadata": {},
     "output_type": "execute_result"
    }
   ],
   "source": [
    "patients_last_encounter_1['death_threshold'].value_counts()"
   ]
  },
  {
   "cell_type": "markdown",
   "metadata": {},
   "source": [
    "## Features"
   ]
  },
  {
   "cell_type": "markdown",
   "metadata": {},
   "source": [
    "careplans - Code (Code from SNOMED-CT) <\n",
    "payer_transitions - X\n",
    "observations - ?\n",
    "organizations - X\n",
    "supplies - ?\n",
    "procedures - ?\n",
    "providers - X\n",
    "payers - X\n",
    "patients - <\n",
    "encounters - (59481, 15) - (55285, 15)\n",
    "claims - the diagnoses 1, 2,3,4,5,6,7,8?\n",
    "imaging_studies - X\n",
    "devices - X\n",
    "conditions - <\n",
    "immunizations - code\n",
    "medications - code\n",
    "allergies - Type, severity?"
   ]
  },
  {
   "cell_type": "code",
   "execution_count": 23,
   "metadata": {},
   "outputs": [
    {
     "data": {
      "text/html": [
       "<div>\n",
       "<style scoped>\n",
       "    .dataframe tbody tr th:only-of-type {\n",
       "        vertical-align: middle;\n",
       "    }\n",
       "\n",
       "    .dataframe tbody tr th {\n",
       "        vertical-align: top;\n",
       "    }\n",
       "\n",
       "    .dataframe thead th {\n",
       "        text-align: right;\n",
       "    }\n",
       "</style>\n",
       "<table border=\"1\" class=\"dataframe\">\n",
       "  <thead>\n",
       "    <tr style=\"text-align: right;\">\n",
       "      <th></th>\n",
       "      <th>START</th>\n",
       "      <th>STOP</th>\n",
       "      <th>PATIENT</th>\n",
       "      <th>ENCOUNTER</th>\n",
       "      <th>CODE</th>\n",
       "      <th>SYSTEM</th>\n",
       "      <th>DESCRIPTION</th>\n",
       "      <th>TYPE</th>\n",
       "      <th>CATEGORY</th>\n",
       "      <th>REACTION1</th>\n",
       "      <th>DESCRIPTION1</th>\n",
       "      <th>SEVERITY1</th>\n",
       "      <th>REACTION2</th>\n",
       "      <th>DESCRIPTION2</th>\n",
       "      <th>SEVERITY2</th>\n",
       "    </tr>\n",
       "  </thead>\n",
       "  <tbody>\n",
       "    <tr>\n",
       "      <th>0</th>\n",
       "      <td>1976-12-20</td>\n",
       "      <td>NaN</td>\n",
       "      <td>0d679725-4ff2-9d28-e523-956496f182cb</td>\n",
       "      <td>62977e95-39f8-5a22-05ad-d8faa6ac7ff8</td>\n",
       "      <td>1191</td>\n",
       "      <td>Unknown</td>\n",
       "      <td>Aspirin</td>\n",
       "      <td>allergy</td>\n",
       "      <td>medication</td>\n",
       "      <td>21522001.0</td>\n",
       "      <td>Abdominal pain (finding)</td>\n",
       "      <td>MODERATE</td>\n",
       "      <td>NaN</td>\n",
       "      <td>NaN</td>\n",
       "      <td>NaN</td>\n",
       "    </tr>\n",
       "    <tr>\n",
       "      <th>1</th>\n",
       "      <td>2003-10-23</td>\n",
       "      <td>NaN</td>\n",
       "      <td>f03f50be-20b1-3eae-2ed1-bb478bceb320</td>\n",
       "      <td>555181fd-9bb0-d8b8-e720-c1164a5449ce</td>\n",
       "      <td>84489001</td>\n",
       "      <td>Unknown</td>\n",
       "      <td>Mold (organism)</td>\n",
       "      <td>allergy</td>\n",
       "      <td>environment</td>\n",
       "      <td>NaN</td>\n",
       "      <td>NaN</td>\n",
       "      <td>NaN</td>\n",
       "      <td>NaN</td>\n",
       "      <td>NaN</td>\n",
       "      <td>NaN</td>\n",
       "    </tr>\n",
       "    <tr>\n",
       "      <th>2</th>\n",
       "      <td>2003-10-23</td>\n",
       "      <td>NaN</td>\n",
       "      <td>f03f50be-20b1-3eae-2ed1-bb478bceb320</td>\n",
       "      <td>555181fd-9bb0-d8b8-e720-c1164a5449ce</td>\n",
       "      <td>5640</td>\n",
       "      <td>Unknown</td>\n",
       "      <td>Ibuprofen</td>\n",
       "      <td>allergy</td>\n",
       "      <td>medication</td>\n",
       "      <td>270474007.0</td>\n",
       "      <td>Flushes/goes red (finding)</td>\n",
       "      <td>MODERATE</td>\n",
       "      <td>NaN</td>\n",
       "      <td>NaN</td>\n",
       "      <td>NaN</td>\n",
       "    </tr>\n",
       "    <tr>\n",
       "      <th>3</th>\n",
       "      <td>2003-10-23</td>\n",
       "      <td>NaN</td>\n",
       "      <td>f03f50be-20b1-3eae-2ed1-bb478bceb320</td>\n",
       "      <td>555181fd-9bb0-d8b8-e720-c1164a5449ce</td>\n",
       "      <td>7984</td>\n",
       "      <td>Unknown</td>\n",
       "      <td>Penicillin V</td>\n",
       "      <td>allergy</td>\n",
       "      <td>medication</td>\n",
       "      <td>271807003.0</td>\n",
       "      <td>Eruption of skin (disorder)</td>\n",
       "      <td>MILD</td>\n",
       "      <td>247472004.0</td>\n",
       "      <td>Wheal (finding)</td>\n",
       "      <td>MILD</td>\n",
       "    </tr>\n",
       "    <tr>\n",
       "      <th>4</th>\n",
       "      <td>2003-10-23</td>\n",
       "      <td>NaN</td>\n",
       "      <td>f03f50be-20b1-3eae-2ed1-bb478bceb320</td>\n",
       "      <td>555181fd-9bb0-d8b8-e720-c1164a5449ce</td>\n",
       "      <td>735029006</td>\n",
       "      <td>Unknown</td>\n",
       "      <td>Shellfish (substance)</td>\n",
       "      <td>allergy</td>\n",
       "      <td>food</td>\n",
       "      <td>271807003.0</td>\n",
       "      <td>Eruption of skin (disorder)</td>\n",
       "      <td>MODERATE</td>\n",
       "      <td>418290006.0</td>\n",
       "      <td>Itching (finding)</td>\n",
       "      <td>MILD</td>\n",
       "    </tr>\n",
       "    <tr>\n",
       "      <th>...</th>\n",
       "      <td>...</td>\n",
       "      <td>...</td>\n",
       "      <td>...</td>\n",
       "      <td>...</td>\n",
       "      <td>...</td>\n",
       "      <td>...</td>\n",
       "      <td>...</td>\n",
       "      <td>...</td>\n",
       "      <td>...</td>\n",
       "      <td>...</td>\n",
       "      <td>...</td>\n",
       "      <td>...</td>\n",
       "      <td>...</td>\n",
       "      <td>...</td>\n",
       "      <td>...</td>\n",
       "    </tr>\n",
       "    <tr>\n",
       "      <th>880</th>\n",
       "      <td>1955-10-11</td>\n",
       "      <td>NaN</td>\n",
       "      <td>393030d3-4eb2-9ecd-a4c3-4770ea39da00</td>\n",
       "      <td>dde687f8-9882-0e1c-d9ed-cf2c5e41a672</td>\n",
       "      <td>762952008</td>\n",
       "      <td>Unknown</td>\n",
       "      <td>Peanut (substance)</td>\n",
       "      <td>allergy</td>\n",
       "      <td>food</td>\n",
       "      <td>402387002.0</td>\n",
       "      <td>Allergic angioedema (disorder)</td>\n",
       "      <td>MODERATE</td>\n",
       "      <td>247472004.0</td>\n",
       "      <td>Wheal (finding)</td>\n",
       "      <td>MODERATE</td>\n",
       "    </tr>\n",
       "    <tr>\n",
       "      <th>881</th>\n",
       "      <td>1994-07-11</td>\n",
       "      <td>NaN</td>\n",
       "      <td>6f5224f5-8c33-5611-4a61-f792ee96cf3d</td>\n",
       "      <td>a9035e01-7f7f-4703-290f-15a6e7cecd58</td>\n",
       "      <td>111088007</td>\n",
       "      <td>Unknown</td>\n",
       "      <td>Latex (substance)</td>\n",
       "      <td>allergy</td>\n",
       "      <td>environment</td>\n",
       "      <td>402387002.0</td>\n",
       "      <td>Allergic angioedema (disorder)</td>\n",
       "      <td>MODERATE</td>\n",
       "      <td>247472004.0</td>\n",
       "      <td>Wheal (finding)</td>\n",
       "      <td>MILD</td>\n",
       "    </tr>\n",
       "    <tr>\n",
       "      <th>882</th>\n",
       "      <td>1994-07-11</td>\n",
       "      <td>NaN</td>\n",
       "      <td>6f5224f5-8c33-5611-4a61-f792ee96cf3d</td>\n",
       "      <td>a9035e01-7f7f-4703-290f-15a6e7cecd58</td>\n",
       "      <td>29046</td>\n",
       "      <td>Unknown</td>\n",
       "      <td>Lisinopril</td>\n",
       "      <td>intolerance</td>\n",
       "      <td>medication</td>\n",
       "      <td>NaN</td>\n",
       "      <td>NaN</td>\n",
       "      <td>NaN</td>\n",
       "      <td>NaN</td>\n",
       "      <td>NaN</td>\n",
       "      <td>NaN</td>\n",
       "    </tr>\n",
       "    <tr>\n",
       "      <th>883</th>\n",
       "      <td>1985-06-30</td>\n",
       "      <td>NaN</td>\n",
       "      <td>05ae5966-cb9d-68e7-5fff-22b1115cde0c</td>\n",
       "      <td>8282c889-3c6f-cf28-9321-13db9fd5f69e</td>\n",
       "      <td>7984</td>\n",
       "      <td>Unknown</td>\n",
       "      <td>Penicillin V</td>\n",
       "      <td>allergy</td>\n",
       "      <td>medication</td>\n",
       "      <td>267036007.0</td>\n",
       "      <td>Dyspnea (finding)</td>\n",
       "      <td>MILD</td>\n",
       "      <td>247472004.0</td>\n",
       "      <td>Wheal (finding)</td>\n",
       "      <td>MILD</td>\n",
       "    </tr>\n",
       "    <tr>\n",
       "      <th>884</th>\n",
       "      <td>1922-07-04</td>\n",
       "      <td>NaN</td>\n",
       "      <td>5defca62-3335-1c62-b9d4-f4a4e97d8b17</td>\n",
       "      <td>46834b50-768c-fb77-4616-11f0af400b9e</td>\n",
       "      <td>29046</td>\n",
       "      <td>Unknown</td>\n",
       "      <td>Lisinopril</td>\n",
       "      <td>intolerance</td>\n",
       "      <td>medication</td>\n",
       "      <td>NaN</td>\n",
       "      <td>NaN</td>\n",
       "      <td>NaN</td>\n",
       "      <td>NaN</td>\n",
       "      <td>NaN</td>\n",
       "      <td>NaN</td>\n",
       "    </tr>\n",
       "  </tbody>\n",
       "</table>\n",
       "<p>885 rows × 15 columns</p>\n",
       "</div>"
      ],
      "text/plain": [
       "          START  STOP                               PATIENT  \\\n",
       "0    1976-12-20   NaN  0d679725-4ff2-9d28-e523-956496f182cb   \n",
       "1    2003-10-23   NaN  f03f50be-20b1-3eae-2ed1-bb478bceb320   \n",
       "2    2003-10-23   NaN  f03f50be-20b1-3eae-2ed1-bb478bceb320   \n",
       "3    2003-10-23   NaN  f03f50be-20b1-3eae-2ed1-bb478bceb320   \n",
       "4    2003-10-23   NaN  f03f50be-20b1-3eae-2ed1-bb478bceb320   \n",
       "..          ...   ...                                   ...   \n",
       "880  1955-10-11   NaN  393030d3-4eb2-9ecd-a4c3-4770ea39da00   \n",
       "881  1994-07-11   NaN  6f5224f5-8c33-5611-4a61-f792ee96cf3d   \n",
       "882  1994-07-11   NaN  6f5224f5-8c33-5611-4a61-f792ee96cf3d   \n",
       "883  1985-06-30   NaN  05ae5966-cb9d-68e7-5fff-22b1115cde0c   \n",
       "884  1922-07-04   NaN  5defca62-3335-1c62-b9d4-f4a4e97d8b17   \n",
       "\n",
       "                                ENCOUNTER       CODE   SYSTEM  \\\n",
       "0    62977e95-39f8-5a22-05ad-d8faa6ac7ff8       1191  Unknown   \n",
       "1    555181fd-9bb0-d8b8-e720-c1164a5449ce   84489001  Unknown   \n",
       "2    555181fd-9bb0-d8b8-e720-c1164a5449ce       5640  Unknown   \n",
       "3    555181fd-9bb0-d8b8-e720-c1164a5449ce       7984  Unknown   \n",
       "4    555181fd-9bb0-d8b8-e720-c1164a5449ce  735029006  Unknown   \n",
       "..                                    ...        ...      ...   \n",
       "880  dde687f8-9882-0e1c-d9ed-cf2c5e41a672  762952008  Unknown   \n",
       "881  a9035e01-7f7f-4703-290f-15a6e7cecd58  111088007  Unknown   \n",
       "882  a9035e01-7f7f-4703-290f-15a6e7cecd58      29046  Unknown   \n",
       "883  8282c889-3c6f-cf28-9321-13db9fd5f69e       7984  Unknown   \n",
       "884  46834b50-768c-fb77-4616-11f0af400b9e      29046  Unknown   \n",
       "\n",
       "               DESCRIPTION         TYPE     CATEGORY    REACTION1  \\\n",
       "0                  Aspirin      allergy   medication   21522001.0   \n",
       "1          Mold (organism)      allergy  environment          NaN   \n",
       "2                Ibuprofen      allergy   medication  270474007.0   \n",
       "3             Penicillin V      allergy   medication  271807003.0   \n",
       "4    Shellfish (substance)      allergy         food  271807003.0   \n",
       "..                     ...          ...          ...          ...   \n",
       "880     Peanut (substance)      allergy         food  402387002.0   \n",
       "881      Latex (substance)      allergy  environment  402387002.0   \n",
       "882             Lisinopril  intolerance   medication          NaN   \n",
       "883           Penicillin V      allergy   medication  267036007.0   \n",
       "884             Lisinopril  intolerance   medication          NaN   \n",
       "\n",
       "                       DESCRIPTION1 SEVERITY1    REACTION2       DESCRIPTION2  \\\n",
       "0          Abdominal pain (finding)  MODERATE          NaN                NaN   \n",
       "1                               NaN       NaN          NaN                NaN   \n",
       "2        Flushes/goes red (finding)  MODERATE          NaN                NaN   \n",
       "3       Eruption of skin (disorder)      MILD  247472004.0    Wheal (finding)   \n",
       "4       Eruption of skin (disorder)  MODERATE  418290006.0  Itching (finding)   \n",
       "..                              ...       ...          ...                ...   \n",
       "880  Allergic angioedema (disorder)  MODERATE  247472004.0    Wheal (finding)   \n",
       "881  Allergic angioedema (disorder)  MODERATE  247472004.0    Wheal (finding)   \n",
       "882                             NaN       NaN          NaN                NaN   \n",
       "883               Dyspnea (finding)      MILD  247472004.0    Wheal (finding)   \n",
       "884                             NaN       NaN          NaN                NaN   \n",
       "\n",
       "    SEVERITY2  \n",
       "0         NaN  \n",
       "1         NaN  \n",
       "2         NaN  \n",
       "3        MILD  \n",
       "4        MILD  \n",
       "..        ...  \n",
       "880  MODERATE  \n",
       "881      MILD  \n",
       "882       NaN  \n",
       "883      MILD  \n",
       "884       NaN  \n",
       "\n",
       "[885 rows x 15 columns]"
      ]
     },
     "execution_count": 23,
     "metadata": {},
     "output_type": "execute_result"
    }
   ],
   "source": [
    "scenario_1['allergies']"
   ]
  },
  {
   "cell_type": "markdown",
   "metadata": {},
   "source": [
    "## Modelo "
   ]
  },
  {
   "cell_type": "code",
   "execution_count": 24,
   "metadata": {},
   "outputs": [
    {
     "data": {
      "text/plain": [
       "Index(['Id_patient', 'BIRTHDATE', 'DEATHDATE', 'SSN', 'DRIVERS', 'PASSPORT',\n",
       "       'PREFIX', 'FIRST', 'LAST', 'SUFFIX', 'MAIDEN', 'MARITAL', 'RACE',\n",
       "       'ETHNICITY', 'GENDER', 'BIRTHPLACE', 'ADDRESS', 'CITY', 'STATE',\n",
       "       'COUNTY', 'ZIP', 'LAT', 'LON', 'HEALTHCARE_EXPENSES',\n",
       "       'HEALTHCARE_COVERAGE', 'AGE_DEATH', 'Id_encounter', 'START', 'STOP',\n",
       "       'PATIENT', 'ORGANIZATION', 'PROVIDER', 'PAYER', 'ENCOUNTERCLASS',\n",
       "       'CODE', 'DESCRIPTION', 'BASE_ENCOUNTER_COST', 'TOTAL_CLAIM_COST',\n",
       "       'PAYER_COVERAGE', 'REASONCODE', 'REASONDESCRIPTION', 'row_number',\n",
       "       'death_threshold'],\n",
       "      dtype='object')"
      ]
     },
     "execution_count": 24,
     "metadata": {},
     "output_type": "execute_result"
    }
   ],
   "source": [
    "patients_last_encounter_1.columns"
   ]
  },
  {
   "cell_type": "markdown",
   "metadata": {},
   "source": [
    "Fiquei com duvida sobre o CODE, bias?"
   ]
  },
  {
   "cell_type": "code",
   "execution_count": 25,
   "metadata": {},
   "outputs": [],
   "source": [
    "patients_last_encounter_1.drop(columns=['Id_patient', 'DEATHDATE', 'AGE_DEATH', \\\n",
    "                                        'REASONDESCRIPTION', 'REASONCODE', 'PREFIX', \\\n",
    "                                        'FIRST', 'LAST', 'SUFFIX', 'DESCRIPTION', \\\n",
    "                                        'MAIDEN', 'SSN', 'CODE', 'ADDRESS', 'DRIVERS', 'PASSPORT',\\\n",
    "                                         'Id_encounter', 'row_number', 'LAT', 'LON'], inplace=True)\n",
    "patients_last_encounter_1['BIRTHDATE'] = patients_last_encounter_1['BIRTHDATE'].dt.year\n"
   ]
  },
  {
   "cell_type": "code",
   "execution_count": 26,
   "metadata": {},
   "outputs": [
    {
     "data": {
      "image/png": "[encoded data removed]",
      "text/plain": [
       "<Figure size 576x432 with 2 Axes>"
      ]
     },
     "metadata": {
      "needs_background": "light"
     },
     "output_type": "display_data"
    }
   ],
   "source": [
    "corr_df = patients_last_encounter_1.corr(method='pearson')\n",
    "\n",
    "plt.figure(figsize=(8, 6))\n",
    "sns.heatmap(corr_df, annot=True)\n",
    "plt.show()"
   ]
  },
  {
   "cell_type": "code",
   "execution_count": null,
   "metadata": {},
   "outputs": [],
   "source": []
  }
 ],
 "metadata": {
  "kernelspec": {
   "display_name": "Python 3 (ipykernel)",
   "language": "python",
   "name": "python3"
  },
  "language_info": {
   "codemirror_mode": {
    "name": "ipython",
    "version": 3
   },
   "file_extension": ".py",
   "mimetype": "text/x-python",
   "name": "python",
   "nbconvert_exporter": "python",
   "pygments_lexer": "ipython3",
   "version": "3.9.7"
  }
 },
 "nbformat": 4,
 "nbformat_minor": 4
}
